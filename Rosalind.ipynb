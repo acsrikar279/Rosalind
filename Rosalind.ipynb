{
 "cells": [
  {
   "cell_type": "markdown",
   "metadata": {},
   "source": [
    "# Counting DNA Nucleotides"
   ]
  },
  {
   "cell_type": "code",
   "execution_count": 3,
   "metadata": {},
   "outputs": [
    {
     "name": "stdout",
     "output_type": "stream",
     "text": [
      "205 214 220 257\n"
     ]
    }
   ],
   "source": [
    "with open('rosalind_dna_1_dataset.txt') as f:\n",
    "    s = f.readline()\n",
    "    print(s.count('A'),s.count('C'),s.count('G'),s.count('T'))"
   ]
  },
  {
   "cell_type": "markdown",
   "metadata": {},
   "source": [
    "# Transcribing DNA into RNA"
   ]
  },
  {
   "cell_type": "code",
   "execution_count": 10,
   "metadata": {},
   "outputs": [
    {
     "name": "stdout",
     "output_type": "stream",
     "text": [
      "CGCAGGAUAAUGUGUGGUGACUGUUCGACAGAGGACGUGUCGCAGCGUUACGUAGUGCCUUACGAUAAACUAGAGAAGCACUCGCGCGACUGCUCACCCAGCAACUCGGAUCCCGAGGCCGGAUCCCUCAGUGAAGUGAACCGAAUUGCACAAUUAAUCAGCGGCGGGAAGGAUCCACUAUUCGAUGUGGAUGGAAGGAAACCCAUCAUCAAAGCGGUAGAGUCAGGGGUAGUGGCCCGCUGAGAGUUCGAACACGCCUCGUCCUAAGCCGAAAACGCGGGAGUGGCUGCUAGGAUGACUCGACACAGGAGAAAUUACAUCCCCCGAAUUAAAGAACCUACCUCUACACUCGUCGUACGUACAGCUAUGCGUCGAUUUCAAAUUUUUAGAUUUAUUAUAUUAGCUGAAUGCACAAUCGCGGUGAGAGUUAGUCGCACGAAUUGACUGAGAGCGGUAUAGCGGGUCUCUAUAGGGCCCCGGUUAAAAGUCGCCACGCUAAAACCUUAUGUAGAUCCAUAUCUAACGUCGGCAUCUGAGUGAGGAACUCCCCCGUAAAUAGCGGCCGAAAGUUCUGACGCCCAUAUGCUGUAUGGCCGCCUUUUGUGAUAAUACCCACAUGUUCAGUAAGCUAUCGCAACGCAUCUCCGGCCCGAUAAUGGUCUGAGGGUCCAACUUAACGUUGUACAUCAACGCAUAUAUUGAGGAUCACGAAGAAGUUUCUUUCCCGAAAUACCUCUCUUCGCGGGAACAGGCUGCUUGCGAACGAGAACAAAAGGAGUUUCGAAAGGUCAUCAUCAGGCUAGUGGUUAUGUAGCGAAGUGCAAGGAAAUAAGUUUGCAUAGGAUUACUAGACCGCCAGACCCUACUGAGCAUGUUUGGACGCUUAACCGCCAGUAACAGUCUAUUCGGCAGAUCCAGGCCCCCGUAACCCCGUGAUAAGUGCCGGCCCGAUGCUACUGGGUGCCUAUU\n",
      "\n"
     ]
    }
   ],
   "source": [
    "with open('rosalind_rna_1_dataset.txt') as f:\n",
    "    s = f.readline()\n",
    "    l = []\n",
    "    for i in range(len(s)):\n",
    "        if(s[i]=='T'):\n",
    "            l.append('U')\n",
    "        else:\n",
    "            l.append(s[i])\n",
    "    print(''.join(l))"
   ]
  },
  {
   "cell_type": "markdown",
   "metadata": {},
   "source": [
    "# Complementing a Strand of DNA"
   ]
  },
  {
   "cell_type": "code",
   "execution_count": 13,
   "metadata": {},
   "outputs": [
    {
     "name": "stdout",
     "output_type": "stream",
     "text": [
      "GGACAACCGAGAATTGCACAAAGACGAGTTCTACCGGAATGTTCAATCTTTCTGGGGTAATGACATTCAACGGCGCCACGCTCGAGACGTTGCTTAGTACCGTGATAATTCCTAGATTAAATACCTTAGTTGCCTCTGGGGCTATAACGTTCATCAAATTTAGCGTGATACTTTCCCAATAACAGCATAGCTTTCACTGGCTGGGTATCTTAGGTCGTCGGGGAACTTGGCCTATGATCCACATAATTTGACGCCGCGAGTCTTGCTAGCCTATCGGAGTACAGCCTATCCCACGATGTATATTCTTTTGTCTGACAAAGTGCCCGTAATTCCGCGGAGGGTTCCATAATCGTCCCCATCCGGTGACAACGGGCCCACGTTTAAATTTTGTCAGACAGAGGCTTGTCCGATCGACTACCACATGAAAGCTGTCACACAGTTAGCCGGCAGAAGTGTTTGCCTGCGCTGCACAAGTACAGCATAGGGACAGGCATCAGCCTCAACGAACAGATAAGAGTTCACCGTGCTTTAGTCTTCTCCAAACGCATGGAGAAAGCGCTCTGTACGATGCTCGCGCCTCGAAGAAGCTAGGGATGTGAAATAAAAGTAATAGACGACACGGCGACCACGCAACTTCAACGACTTCACGTACCTCGTAACGCAAAGTATCAGCCCCACTCTGTCTCCTCACATGGAACTTTCGTCGGATATTTGAGCTGATAAATGCGCTATTAGCAACGGGACTGGCATTAGGGCGTAGATCCTTGACCCAGCTCGTAGGTGCCTAGTTTCCGGAAGGGCGTATCAGTGAATTGTCAGCTTTGGCCAGATATGGTTGCGCAGCCCGCATCTCCTAGCCCATCCGATGGACGGGACGGTATCCTCCTTCTTTCATCGACAACTCGTGCATAATTACGTCCCCAATTCTTCTAGAAGAAGTGAGATAAGAAAGTAATGCGCATAGATGTGGGACGGAATGAGAGTTAATACACCAAACGCG\n"
     ]
    }
   ],
   "source": [
    "with ope,n('rosalind_revc_1_dataset.txt') as f:\n",
    "    s = f.readline()\n",
    "    s = s[::-1]\n",
    "    l = []\n",
    "    for i in range(len(s)):\n",
    "        if(s[i]=='T'):\n",
    "            l.append('A')\n",
    "        elif(s[i]=='A'):\n",
    "            l.append('T')\n",
    "        elif(s[i]=='G'):\n",
    "            l.append('C')\n",
    "        else:\n",
    "            l.append('G')\n",
    "    print(''.join(l))"
   ]
  },
  {
   "cell_type": "markdown",
   "metadata": {},
   "source": [
    "# Rabbits and Recurrence Relations"
   ]
  },
  {
   "cell_type": "code",
   "execution_count": 24,
   "metadata": {},
   "outputs": [
    {
     "name": "stdout",
     "output_type": "stream",
     "text": [
      "3048504677680\n"
     ]
    }
   ],
   "source": [
    "def rabbits(n, k):\n",
    "    if n == 0:\n",
    "        return 0\n",
    "    if n == 1:\n",
    "        return 1\n",
    "    else:\n",
    "        return rabbits(n-1, k) + k*rabbits(n-2, k)\n",
    "with open('rosalind_fib_1_dataset.txt') as f:\n",
    "    s = f.readline()\n",
    "    print(rabbits(36,3))"
   ]
  },
  {
   "cell_type": "code",
   "execution_count": null,
   "metadata": {},
   "outputs": [],
   "source": []
  }
 ],
 "metadata": {
  "kernelspec": {
   "display_name": "Python 3",
   "language": "python",
   "name": "python3"
  },
  "language_info": {
   "codemirror_mode": {
    "name": "ipython",
    "version": 3
   },
   "file_extension": ".py",
   "mimetype": "text/x-python",
   "name": "python",
   "nbconvert_exporter": "python",
   "pygments_lexer": "ipython3",
   "version": "3.5.2"
  }
 },
 "nbformat": 4,
 "nbformat_minor": 2
}
